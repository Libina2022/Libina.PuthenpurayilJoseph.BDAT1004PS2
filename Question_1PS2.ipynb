{
 "cells": [
  {
   "cell_type": "markdown",
   "id": "c9d67015",
   "metadata": {},
   "source": [
    "# Question 1\n",
    "\n",
    "Consider the following Python module:\n",
    "a = 0\n",
    "def b():\n",
    " global a\n",
    " a = c(a)\n",
    "def c(a):\n",
    " return a + 2\n",
    "After importing the module into the interpreter, you execute:\n",
    ">>> b()\n",
    ">>> b()\n",
    ">>> b()\n",
    ">>> a\n",
    "?\n",
    "What value is displayed when the last expression (a) is evaluated? Explain your\n",
    "answer by indicating what happens in every executed statement."
   ]
  },
  {
   "cell_type": "code",
   "execution_count": 7,
   "id": "d5248793",
   "metadata": {},
   "outputs": [],
   "source": [
    "a = 0\n",
    "def b():\n",
    " global a\n",
    " a = c(a)\n",
    "def c(a):\n",
    " return a + 2"
   ]
  },
  {
   "cell_type": "code",
   "execution_count": 8,
   "id": "7764e08f",
   "metadata": {},
   "outputs": [],
   "source": [
    "b()            # It calls the function b() where global variable a is defined, pass the a argument to function c(a) \n",
    "               # which returns 2 as a result, global variable a becomes 2."
   ]
  },
  {
   "cell_type": "code",
   "execution_count": 9,
   "id": "463f101d",
   "metadata": {},
   "outputs": [],
   "source": [
    "b()            # Again calling the function b(), this time the global variable a has value 2, it calls the \n",
    "               # function def c(a) and it returns 4 as result, global variable a becomes 4. "
   ]
  },
  {
   "cell_type": "code",
   "execution_count": 10,
   "id": "4e9685bf",
   "metadata": {},
   "outputs": [],
   "source": [
    "b()           # It calls the function b(), where global variable a has value 4 after second execution, \n",
    "              # it calls the def c(a) and returns 6 as a result, global variable a becomes 6 now."
   ]
  },
  {
   "cell_type": "code",
   "execution_count": 11,
   "id": "a371ba6f",
   "metadata": {},
   "outputs": [
    {
     "data": {
      "text/plain": [
       "6"
      ]
     },
     "execution_count": 11,
     "metadata": {},
     "output_type": "execute_result"
    }
   ],
   "source": [
    "a             # Here, we called the function b() three times, the global variable a has the value 6 now, so the output \n",
    "              # of this statement is 6."
   ]
  }
 ],
 "metadata": {
  "kernelspec": {
   "display_name": "Python 3 (ipykernel)",
   "language": "python",
   "name": "python3"
  },
  "language_info": {
   "codemirror_mode": {
    "name": "ipython",
    "version": 3
   },
   "file_extension": ".py",
   "mimetype": "text/x-python",
   "name": "python",
   "nbconvert_exporter": "python",
   "pygments_lexer": "ipython3",
   "version": "3.9.7"
  }
 },
 "nbformat": 4,
 "nbformat_minor": 5
}
