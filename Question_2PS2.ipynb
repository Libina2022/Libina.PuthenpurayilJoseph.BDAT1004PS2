{
 "cells": [
  {
   "cell_type": "markdown",
   "id": "5383e05d",
   "metadata": {},
   "source": [
    "# Question 2\n",
    "\n",
    "Function fileLength(), given to you, takes the name of a file as input and returns\n",
    "the length of the file:\n",
    ">>> fileLength('midterm.py')\n",
    "284\n",
    ">>> fileLength('idterm.py')\n",
    "Traceback (most recent call last):\n",
    "File \"<pyshell#34>\", line 1, in <module>\n",
    " fileLength('idterm.py')\n",
    "File \"/Users/me/midterm.py\", line 3, in fileLength\n",
    " infile = open(filename)\n",
    "FileNotFoundError: [Errno 2] No such file or directory:\n",
    "'idterm.py'\n",
    "As shown above, if the file cannot be found by the interpreter or if it cannot be read\n",
    "as a text file, an exception will be raised. Modify function fileLength() so that a\n",
    "friendly message is printed instead:\n",
    ">>> fileLength('midterm.py')\n",
    "358\n",
    ">>> fileLength('idterm.py')\n",
    "File idterm.py not found."
   ]
  },
  {
   "cell_type": "code",
   "execution_count": 4,
   "id": "4cf2081d",
   "metadata": {},
   "outputs": [
    {
     "name": "stdout",
     "output_type": "stream",
     "text": [
      "123\n",
      "Oops! File idterm.py' not found.\n"
     ]
    }
   ],
   "source": [
    "def fileLength(file_name):                           # defining function fileLength() \n",
    "    \n",
    "    try:\n",
    "        file = open(file_name)                       \n",
    "        \n",
    "    except FileNotFoundError:                        # This will be executed when a FileNotFoundError exception is raised\n",
    "        print(\"Oops! File \" +file_name+\" not found.\")\n",
    "    \n",
    "    else:\n",
    "        file = open(file_name)                       # opening file\n",
    "        contents = file.read()                       # reading the file\n",
    "        file.close()                                 # closing the file\n",
    "        print(len(contents))\n",
    "        \n",
    "fileLength(\"midterm.py\")\n",
    "\n",
    "fileLength(\"idterm.py'\")"
   ]
  }
 ],
 "metadata": {
  "kernelspec": {
   "display_name": "Python 3 (ipykernel)",
   "language": "python",
   "name": "python3"
  },
  "language_info": {
   "codemirror_mode": {
    "name": "ipython",
    "version": 3
   },
   "file_extension": ".py",
   "mimetype": "text/x-python",
   "name": "python",
   "nbconvert_exporter": "python",
   "pygments_lexer": "ipython3",
   "version": "3.9.7"
  }
 },
 "nbformat": 4,
 "nbformat_minor": 5
}
