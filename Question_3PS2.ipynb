{
 "cells": [
  {
   "cell_type": "markdown",
   "id": "400c0035",
   "metadata": {},
   "source": [
    "# Question 3\n",
    "\n",
    "Write a class named Marsupial that can be used as shown below:\n",
    ">>> m = Marsupial()\n",
    ">>> m.put_in_pouch('doll')\n",
    ">>> m.put_in_pouch('firetruck')\n",
    ">>> m.put_in_pouch('kitten')\n",
    ">>> m.pouch_contents()\n",
    "['doll', 'firetruck', 'kitten']\n",
    "Now write a class named Kangaroo as a subclass of Marsupial that inherits all the\n",
    "attributes of Marsupial and also:\n",
    "a. extends the Marsupial __init__ constructor to take, as input, the\n",
    "coordinates x and y of the Kangaroo object,\n",
    "b. supports method jump that takes number values dx and dy as input and\n",
    "moves the kangaroo by dx units along the x-axis and by dy units along the yaxis, and\n",
    "c. overloads the __str__ operator so it behaves as shown below.\n",
    ">>> k = Kangaroo(0,0)\n",
    ">>> print(k)\n",
    "I am a Kangaroo located at coordinates (0,0)\n",
    ">>> k.put_in_pouch('doll')\n",
    ">>> k.put_in_pouch('firetruck')\n",
    ">>> k.put_in_pouch('kitten')\n",
    ">>> k.pouch_contents()\n",
    "['doll', 'firetruck', 'kitten']\n",
    ">>> k.jump(1,0)\n",
    ">>> k.jump(1,0)\n",
    ">>> k.jump(1,0)\n",
    ">>> print(k)\n",
    "I am a Kangaroo located at coordinates (3,0)"
   ]
  },
  {
   "cell_type": "code",
   "execution_count": 1,
   "id": "855ef678",
   "metadata": {},
   "outputs": [
    {
     "name": "stdout",
     "output_type": "stream",
     "text": [
      "['doll', 'firetruck', 'kitten']\n"
     ]
    }
   ],
   "source": [
    "\n",
    "class Marsupial:                            # Create a class named Marsupial\n",
    "    def __init__(self):                     # This function will create an empty list\n",
    "        self.contents  = []                \n",
    "    \n",
    "    def put_in_pouch(self, name):           # This function will append items in the List \n",
    "        self.contents.append(name)\n",
    "        \n",
    "    def pouch_contents(self):               # This function will display contents in the List\n",
    "        print(self.contents)\n",
    "        \n",
    "\n",
    "m = Marsupial() \n",
    "m.put_in_pouch('doll') \n",
    "m.put_in_pouch('firetruck') \n",
    "m.put_in_pouch('kitten') \n",
    "m.pouch_contents()"
   ]
  },
  {
   "cell_type": "code",
   "execution_count": 2,
   "id": "331f674e",
   "metadata": {},
   "outputs": [
    {
     "name": "stdout",
     "output_type": "stream",
     "text": [
      "I am a Kangaroo located at coordinates (0,0)\n"
     ]
    }
   ],
   "source": [
    "\n",
    "class Kangaroo(Marsupial):                   # Create a class named Kangaroo as a subclass of Marsupial\n",
    "    def __init__(self, x, y):\n",
    "        super(Kangaroo, self).__init__()\n",
    "        self.x = x;\n",
    "        self.y = y;\n",
    "        \n",
    "    def jump(self, dx, dy):                 # new coordinates after every jump\n",
    "        self.x  = self.x + dx;\n",
    "        self.y  = self.y + dy;\n",
    "     \n",
    "    def __str__(self):                     # overload the _str_ operator\n",
    "        return \"I am a Kangaroo located at coordinates ({},{})\".format(self.x, self.y)\n",
    "     \n",
    "        \n",
    "k = Kangaroo(0,0)\n",
    "print(k)"
   ]
  },
  {
   "cell_type": "code",
   "execution_count": 3,
   "id": "44b4965d",
   "metadata": {},
   "outputs": [
    {
     "name": "stdout",
     "output_type": "stream",
     "text": [
      "['doll', 'firetruck', 'kitten']\n"
     ]
    }
   ],
   "source": [
    "k.put_in_pouch('doll') \n",
    "k.put_in_pouch('firetruck') \n",
    "k.put_in_pouch('kitten') \n",
    "k.pouch_contents()                        # printing the contents in the pouch list"
   ]
  },
  {
   "cell_type": "code",
   "execution_count": 9,
   "id": "a888de9e",
   "metadata": {},
   "outputs": [
    {
     "name": "stdout",
     "output_type": "stream",
     "text": [
      "I am a Kangaroo located at coordinates (3,0)\n"
     ]
    }
   ],
   "source": [
    "k.jump(1,0)\n",
    "k.jump(1,0)\n",
    "k.jump(1,0)\n",
    "print(k)"
   ]
  }
 ],
 "metadata": {
  "kernelspec": {
   "display_name": "Python 3 (ipykernel)",
   "language": "python",
   "name": "python3"
  },
  "language_info": {
   "codemirror_mode": {
    "name": "ipython",
    "version": 3
   },
   "file_extension": ".py",
   "mimetype": "text/x-python",
   "name": "python",
   "nbconvert_exporter": "python",
   "pygments_lexer": "ipython3",
   "version": "3.9.7"
  }
 },
 "nbformat": 4,
 "nbformat_minor": 5
}
