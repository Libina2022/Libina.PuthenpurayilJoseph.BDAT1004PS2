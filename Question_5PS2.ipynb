{
 "cells": [
  {
   "cell_type": "markdown",
   "id": "f2e3e81a",
   "metadata": {},
   "source": [
    "# Question 5\n",
    "Write a recursive method binary() that takes a non-negative\n",
    "integer n and prints the binary representation of integer n.\n",
    ">>> binary(0)\n",
    "0\n",
    ">>> binary(1)\n",
    "1\n",
    ">>> binary(3)\n",
    "11\n",
    ">>> binary(9)\n",
    "1001\n"
   ]
  },
  {
   "cell_type": "code",
   "execution_count": 20,
   "id": "d69bdcf6",
   "metadata": {},
   "outputs": [],
   "source": [
    "def binary(n):                       # defining a function called binary  that takes a non-negative integer n \n",
    "    \n",
    "    try:\n",
    "        if(n<0):\n",
    "            raise ValueError              #check whether the number is less than zero and raise the value error if true.\n",
    "        if n > 1:                   \n",
    "            binary(n//2)            \n",
    "        print (n % 2, end = '')     \n",
    "        \n",
    "    except ValueError:\n",
    "        print('Non-negative integers not accepted')"
   ]
  },
  {
   "cell_type": "code",
   "execution_count": 21,
   "id": "14de2521",
   "metadata": {},
   "outputs": [
    {
     "name": "stdout",
     "output_type": "stream",
     "text": [
      "0"
     ]
    }
   ],
   "source": [
    "binary (0)"
   ]
  },
  {
   "cell_type": "code",
   "execution_count": 22,
   "id": "d2c05967",
   "metadata": {},
   "outputs": [
    {
     "name": "stdout",
     "output_type": "stream",
     "text": [
      "1"
     ]
    }
   ],
   "source": [
    "binary (1)"
   ]
  },
  {
   "cell_type": "code",
   "execution_count": 23,
   "id": "26155508",
   "metadata": {},
   "outputs": [
    {
     "name": "stdout",
     "output_type": "stream",
     "text": [
      "11"
     ]
    }
   ],
   "source": [
    "binary (3)"
   ]
  },
  {
   "cell_type": "code",
   "execution_count": 24,
   "id": "3793c2e9",
   "metadata": {},
   "outputs": [
    {
     "name": "stdout",
     "output_type": "stream",
     "text": [
      "1001"
     ]
    }
   ],
   "source": [
    "binary (9)"
   ]
  }
 ],
 "metadata": {
  "kernelspec": {
   "display_name": "Python 3 (ipykernel)",
   "language": "python",
   "name": "python3"
  },
  "language_info": {
   "codemirror_mode": {
    "name": "ipython",
    "version": 3
   },
   "file_extension": ".py",
   "mimetype": "text/x-python",
   "name": "python",
   "nbconvert_exporter": "python",
   "pygments_lexer": "ipython3",
   "version": "3.9.7"
  }
 },
 "nbformat": 4,
 "nbformat_minor": 5
}
